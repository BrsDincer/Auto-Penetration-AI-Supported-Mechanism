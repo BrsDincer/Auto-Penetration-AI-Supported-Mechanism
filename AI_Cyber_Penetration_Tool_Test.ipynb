{
  "nbformat": 4,
  "nbformat_minor": 0,
  "metadata": {
    "colab": {
      "provenance": [],
      "toc_visible": true
    },
    "kernelspec": {
      "name": "python3",
      "display_name": "Python 3"
    },
    "language_info": {
      "name": "python"
    }
  },
  "cells": [
    {
      "cell_type": "markdown",
      "source": [
        "# Utilization"
      ],
      "metadata": {
        "id": "wm1QRV54lw3T"
      }
    },
    {
      "cell_type": "markdown",
      "source": [
        "## Modules"
      ],
      "metadata": {
        "id": "VS5tvo2MlzSK"
      }
    },
    {
      "cell_type": "code",
      "execution_count": 1,
      "metadata": {
        "id": "wa-QcxGtfP4_"
      },
      "outputs": [],
      "source": [
        "modules:list = [\n",
        "    \"'pyautogen[retrievechat]' 'qdrant_client[fastembed]' 'flaml[automl]'\",\n",
        "    \"langchain-openai==0.0.3\",\n",
        "    \"langchain_experimental==0.0.49\",\n",
        "    \"huggingface_hub==0.20.2\",\n",
        "    \"faiss-cpu==1.7.4\",\n",
        "    \"mitreattack-python==3.0.4\",\n",
        "    \"pyxploitdb==2.0\",\n",
        "    \"-U -q google-generativeai\",\n",
        "    \"protobuf==3.20.*\"\n",
        "]"
      ]
    },
    {
      "cell_type": "code",
      "source": [
        "%%capture\n",
        "for module in modules:\n",
        "  !pip install $module >> \"log_pip_install.txt\""
      ],
      "metadata": {
        "id": "0C04pAQRl1j8"
      },
      "execution_count": 2,
      "outputs": []
    },
    {
      "cell_type": "markdown",
      "source": [
        "## Packages"
      ],
      "metadata": {
        "id": "s_qffpyIl7UX"
      }
    },
    {
      "cell_type": "code",
      "source": [
        "from warnings import filterwarnings\n",
        "filterwarnings(\"ignore\",category=UserWarning);filterwarnings(\"ignore\",category=FutureWarning);filterwarnings(\"ignore\",category=DeprecationWarning);filterwarnings(\"ignore\",category=RuntimeWarning)"
      ],
      "metadata": {
        "id": "4_WZilYBl6SU"
      },
      "execution_count": 3,
      "outputs": []
    },
    {
      "cell_type": "code",
      "source": [
        "import os,shutil,autogen,pathlib,time,uuid,requests,chromadb,faiss,json,pyxploitdb,yaml,platform\n",
        "import google.generativeai as genai\n",
        "from google.colab import userdata\n",
        "from typing import Union,Optional,Any,Type\n",
        "from typing_extensions import Annotated\n",
        "from datetime import datetime,timedelta\n",
        "from langchain.tools import BaseTool,ShellTool\n",
        "from langchain.agents import initialize_agent,AgentType\n",
        "from langchain.pydantic_v1 import BaseModel,Field\n",
        "from langchain.text_splitter import RecursiveCharacterTextSplitter\n",
        "from langchain.llms import HuggingFaceHub\n",
        "from langchain_experimental.tools.python.tool import PythonREPLTool\n",
        "from langchain_experimental.agents.agent_toolkits import create_python_agent\n",
        "from autogen.agentchat.contrib.retrieve_assistant_agent import RetrieveAssistantAgent\n",
        "from autogen.agentchat.contrib.retrieve_user_proxy_agent import RetrieveUserProxyAgent\n",
        "from autogen.agentchat.contrib.qdrant_retrieve_user_proxy_agent import QdrantRetrieveUserProxyAgent\n",
        "from autogen import ConversableAgent\n",
        "from autogen.coding import LocalCommandLineCodeExecutor\n",
        "from qdrant_client import QdrantClient\n",
        "from mitreattack.stix20 import MitreAttackData"
      ],
      "metadata": {
        "id": "agPL2GXHmWJw"
      },
      "execution_count": 84,
      "outputs": []
    },
    {
      "cell_type": "code",
      "source": [
        "from requests.packages.urllib3.exceptions import InsecureRequestWarning,InsecurePlatformWarning\n",
        "requests.packages.urllib3.disable_warnings(InsecureRequestWarning)\n",
        "requests.packages.urllib3.disable_warnings(InsecurePlatformWarning)"
      ],
      "metadata": {
        "id": "vbzfG6Nam-Vt"
      },
      "execution_count": 5,
      "outputs": []
    },
    {
      "cell_type": "markdown",
      "source": [
        "## Classes"
      ],
      "metadata": {
        "id": "z-AiZZ-IpZhM"
      }
    },
    {
      "cell_type": "code",
      "source": [
        "class ClassInit(object):pass\n",
        "class NullInit(object):pass\n",
        "class ProcessInit(object):pass\n",
        "class ModelInit(object):pass\n",
        "class FunctionInit(object):pass\n",
        "class ErrorInit(Exception):pass"
      ],
      "metadata": {
        "id": "HnTOVICBpVMi"
      },
      "execution_count": 6,
      "outputs": []
    },
    {
      "cell_type": "markdown",
      "source": [
        "## Constants"
      ],
      "metadata": {
        "id": "rDC9mTKipnxc"
      }
    },
    {
      "cell_type": "code",
      "source": [
        "class Constants:\n",
        "  directory_data = os.path.join(os.getcwd(),\"data_directory\")\n",
        "  directory_script = os.path.join(os.getcwd(),\"script_directory\")\n",
        "  directory_code = os.path.join(os.getcwd(),\"code_directory\")\n",
        "  directory_text = os.path.join(os.getcwd(),\"text_directory\")\n",
        "  directory_repo_log = os.path.join(os.getcwd(),\"repo_log_directory\")\n",
        "  directory_output = os.path.join(os.getcwd(),\"output_directory\")\n",
        "  directory_readme = os.path.join(os.getcwd(),\"readme_directory\")\n",
        "  codebase_file = os.path.join(os.getcwd(),\"codebase.yaml\")"
      ],
      "metadata": {
        "id": "MpYCOXGWpmXx"
      },
      "execution_count": 7,
      "outputs": []
    },
    {
      "cell_type": "code",
      "source": [
        "class DataUrl:\n",
        "  mitre = \"https://raw.githubusercontent.com/mitre/cti/master/enterprise-attack/enterprise-attack.json\""
      ],
      "metadata": {
        "id": "o8fSoJvcsAhe"
      },
      "execution_count": 8,
      "outputs": []
    },
    {
      "cell_type": "markdown",
      "source": [
        "## Lambda"
      ],
      "metadata": {
        "id": "RBKQs2PCqFHU"
      }
    },
    {
      "cell_type": "code",
      "source": [
        "CreateDirectory:FunctionInit = lambda directory:os.mkdir(directory) if not os.path.exists(directory) else None\n",
        "DeleteDirectory:FunctionInit = lambda directory:shutil.rmtree(directory) if len(os.listdir(directory)) > 0 else None\n",
        "KeyControl:FunctionInit = lambda key:key.name.replace(\" \",\"_\")\n",
        "DeleteHTTP:FunctionInit = lambda site:site.replace(\"https://\",\"\").replace(\"http://\",\"\").rstrip().lstrip()\n",
        "SplitPathName:FunctionInit = lambda path:path.split(\"/\")[-1].replace(\"-\",\"_\")\n",
        "GlobalCheck:FunctionInit = lambda variable:str(variable) in globals()"
      ],
      "metadata": {
        "id": "Ep8_hmMfqEgB"
      },
      "execution_count": 9,
      "outputs": []
    },
    {
      "cell_type": "markdown",
      "source": [
        "## Downloading Data"
      ],
      "metadata": {
        "id": "OcQpE7_0rDuz"
      }
    },
    {
      "cell_type": "code",
      "source": [
        "CreateDirectory(Constants.directory_data)\n",
        "mitreUrl = DataUrl.mitre\n",
        "dataName = SplitPathName(mitreUrl)\n",
        "dataPath = os.path.join(Constants.directory_data,dataName)\n",
        "!wget $mitreUrl -q -o $dataPath"
      ],
      "metadata": {
        "id": "BhjsGNhkq0CN"
      },
      "execution_count": 10,
      "outputs": []
    },
    {
      "cell_type": "markdown",
      "source": [
        "## Operations"
      ],
      "metadata": {
        "id": "20ZvSe_ktWVc"
      }
    },
    {
      "cell_type": "code",
      "source": [
        "class Errors(ErrorInit):\n",
        "  def __init__(self,error:ErrorInit=NotImplementedError)->ClassInit:\n",
        "    self.error = error\n",
        "    self.message = NotImplemented\n",
        "  def __str__(self)->str:\n",
        "    return \"ERROR MODULATION\"\n",
        "  def __call__(self)->ErrorInit:\n",
        "    raise self.error(self.message)\n",
        "  def __getstate__(self)->ErrorInit:\n",
        "    raise self.error(self.message)\n",
        "  def __repr__(self)->str:\n",
        "    return Errors.__doc__\n",
        "  def __len__(self)->int:\n",
        "    return 0\n",
        "  def Manuel(self,error:ErrorInit,message:str)->ErrorInit:\n",
        "    raise error(message)"
      ],
      "metadata": {
        "id": "XZmrfiNjsopJ"
      },
      "execution_count": 11,
      "outputs": []
    },
    {
      "cell_type": "code",
      "source": [
        "error = Errors()"
      ],
      "metadata": {
        "id": "fFxDnHG3t0dt"
      },
      "execution_count": 12,
      "outputs": []
    },
    {
      "cell_type": "code",
      "source": [
        "class WriteOutput(FunctionInit):\n",
        "  def __init__(self,path:Union[str,None]=None)->ClassInit:\n",
        "    self.ops = None\n",
        "    if path is not None:\n",
        "      self.__path = path\n",
        "    else:\n",
        "      CreateDirectory(Constants.directory_output)\n",
        "      self.__path = os.path.join(Constants.directory_output,\"txt_write_output.txt\")\n",
        "  def __str__(self)->str:\n",
        "    return \"WRITING MODULATION\"\n",
        "  def __call__(self)->NullInit:\n",
        "    return None\n",
        "  def __len__(self)->int:\n",
        "    return 9\n",
        "  def __getstate__(self)->ErrorInit:\n",
        "    error()\n",
        "  def __repr__(self)->str:\n",
        "    return WriteOutput.__doc__\n",
        "  def Text(self,text:Union[str,bytes])->ProcessInit:\n",
        "    if isinstance(text,bytes): text = text.decode(\"utf-8\")\n",
        "    return self.ops.write(str(text))\n",
        "  def __enter__(self)->ProcessInit:\n",
        "    self.ops = open(self.__path,\"w\",encoding=\"utf-8\")\n",
        "    return self\n",
        "  def __exit__(self,e1:ClassInit,e2:ClassInit,e3:ClassInit)->ProcessInit:\n",
        "    self.ops.close()"
      ],
      "metadata": {
        "id": "twiqEmGst2SF"
      },
      "execution_count": 13,
      "outputs": []
    },
    {
      "cell_type": "code",
      "source": [
        "class Credentials(FunctionInit):\n",
        "  def __init__(self)->ClassInit:\n",
        "    pass\n",
        "  def __str__(self)->str:\n",
        "    return \"CREDENTIALS MODULATION\"\n",
        "  def __call__(self)->ProcessInit:\n",
        "    os.environ[\"GOOGLE_API_KEY\"] = userdata.get(\"GOOGLE_API_KEY\")\n",
        "    os.environ[\"OPENAI_API_KEY\"] = userdata.get(\"OPENAI_NEW_API\")\n",
        "    os.environ[\"GOOGLE_CSE_ID\"] = userdata.get(\"CSE_ID_KEY\")\n",
        "    os.environ[\"HUGGINGFACEHUB_API_TOKEN\"] = userdata.get(\"HUGGINGFACEHUB_API_TOKEN\")\n",
        "    os.environ[\"GEMINI_API_KEY\"] = userdata.get(\"GEMINI_NEW_API\")\n",
        "    self.HuggingLogin()\n",
        "    print(\"[SYSTEM MESSAGE] : CREDENTIALS HAVE BEEN DEFINED : [SUCCESS]\")\n",
        "  def __getstate__(self)->ErrorInit:\n",
        "    error()\n",
        "  def __len__(self)->int:\n",
        "    return 0\n",
        "  def __repr__(self)->str:\n",
        "    return Credentials.__doc__\n",
        "  def HuggingLogin(self)->ProcessInit:\n",
        "    globals()[\"HKEY_LOGIN_TOKEN\"] = userdata.get(\"HUGGINGFACEHUB_API_TOKEN\")\n",
        "    !huggingface-cli login --token $HKEY_LOGIN_TOKEN"
      ],
      "metadata": {
        "id": "7dF6BIj9u1yR"
      },
      "execution_count": 14,
      "outputs": []
    },
    {
      "cell_type": "code",
      "source": [
        "credentials = Credentials()\n",
        "credentials()"
      ],
      "metadata": {
        "colab": {
          "base_uri": "https://localhost:8080/"
        },
        "id": "6jV_a0RCvwCu",
        "outputId": "ae76f85f-f3a9-4b15-a001-245b6a0eced4"
      },
      "execution_count": 15,
      "outputs": [
        {
          "output_type": "stream",
          "name": "stdout",
          "text": [
            "Token will not been saved to git credential helper. Pass `add_to_git_credential=True` if you want to set the git credential as well.\n",
            "Token is valid (permission: read).\n",
            "Your token has been saved to /root/.cache/huggingface/token\n",
            "Login successful\n",
            "[SYSTEM MESSAGE] : CREDENTIALS HAVE BEEN DEFINED : [SUCCESS]\n"
          ]
        }
      ]
    },
    {
      "cell_type": "markdown",
      "source": [
        "## Decorators"
      ],
      "metadata": {
        "id": "x5OLl8jbv-Fc"
      }
    },
    {
      "cell_type": "code",
      "source": [
        "def TimeDecoder(func:ClassInit)->Union[str,None]:\n",
        "  def Wrapper(*args,**kwargs)->Union[str,None]:\n",
        "    before = time.time()\n",
        "    result = func(*args,**kwargs)\n",
        "    after = time.time()\n",
        "    difference = after-before\n",
        "    try:\n",
        "      name = str(func.__name__)\n",
        "    except:\n",
        "      name = \"UNKNOWN\"\n",
        "    print(f\"[SYSTEM MESSAGE] : OPERATION {name.upper()} - EXECUTED IN {difference:.3f} SECONDS\")\n",
        "    return result\n",
        "  return Wrapper"
      ],
      "metadata": {
        "id": "kG0jNrWuvzAl"
      },
      "execution_count": 393,
      "outputs": []
    },
    {
      "cell_type": "markdown",
      "source": [
        "## System Functions"
      ],
      "metadata": {
        "id": "6Haq12hewaeI"
      }
    },
    {
      "cell_type": "code",
      "source": [
        "def IsTerminated(message:Union[dict,ClassInit])->bool:\n",
        "  if isinstance(message,dict):\n",
        "    message = message.get(\"content\",None)\n",
        "    result = False if message is None else message.rstrip().endswith(\"TERMINATE\")\n",
        "    return result"
      ],
      "metadata": {
        "id": "CBljOwJZwZgx"
      },
      "execution_count": 466,
      "outputs": []
    },
    {
      "cell_type": "code",
      "source": [
        "def Str2List(message:str)->list:\n",
        "  if (message) and (isinstance(message,str)):\n",
        "    outputList = []\n",
        "    output = msg.strip(\"][\").replace(\"'\",\"\")\n",
        "    output = output.strip('][').replace('\"','').replace(\"]\",\"\").replace(\"[\",\"\").split(\", \")\n",
        "    if len(output) > 0:\n",
        "      single = output[0].split(\",\")\n",
        "      for idx in single:\n",
        "        outputList.append(idx)\n",
        "    return outputList\n",
        "  else:\n",
        "    return []"
      ],
      "metadata": {
        "id": "MQMAd2oZwt5d"
      },
      "execution_count": 467,
      "outputs": []
    },
    {
      "cell_type": "code",
      "source": [
        "def TransferFilesToDirectory(fileDirectory:str,destinationDirectory:str)->Union[bool,ProcessInit]:\n",
        "  try:\n",
        "    shutil.copy(fileDirectory,destinationDirectory)\n",
        "    return True\n",
        "  except:\n",
        "    return False"
      ],
      "metadata": {
        "id": "XO-T8T_xk0kb"
      },
      "execution_count": 468,
      "outputs": []
    },
    {
      "cell_type": "markdown",
      "source": [
        "## Requirements"
      ],
      "metadata": {
        "id": "OqwyCYT8xGKV"
      }
    },
    {
      "cell_type": "code",
      "source": [
        "shellEngine = ShellTool()"
      ],
      "metadata": {
        "id": "nKIn6CbAU4Fl"
      },
      "execution_count": 687,
      "outputs": []
    },
    {
      "cell_type": "code",
      "source": [
        "codebaseYAML = yaml.safe_load(open(Constants.codebase_file,\"r\",errors=\"ignore\"))"
      ],
      "metadata": {
        "id": "99feRSzi4jpd"
      },
      "execution_count": 688,
      "outputs": []
    },
    {
      "cell_type": "code",
      "source": [
        "safetyGEMINI:list = [\n",
        "    {\n",
        "        \"category\":\"HARM_CATEGORY_HARASSMENT\",\n",
        "        \"threshold\":\"BLOCK_NONE\"\n",
        "    },\n",
        "    {\n",
        "        \"category\":\"HARM_CATEGORY_HATE_SPEECH\",\n",
        "        \"threshold\":\"BLOCK_NONE\"\n",
        "    },\n",
        "    {\n",
        "        \"category\":\"HARM_CATEGORY_SEXUALLY_EXPLICIT\",\n",
        "        \"threshold\":\"BLOCK_NONE\"\n",
        "    },\n",
        "    {\n",
        "        \"category\":\"HARM_CATEGORY_DANGEROUS_CONTENT\",\n",
        "        \"threshold\":\"BLOCK_NONE\"\n",
        "    }\n",
        "]"
      ],
      "metadata": {
        "id": "cqn_ywwzxEiS"
      },
      "execution_count": 689,
      "outputs": []
    },
    {
      "cell_type": "code",
      "source": [
        "parametersGEMINI:dict = {\n",
        "    \"temperature\":0.2,\n",
        "    \"top_k\":1,\n",
        "    \"max_output_tokens\":4096,\n",
        "    \"candidate_count\":1\n",
        "}"
      ],
      "metadata": {
        "id": "7gO77idGxH20"
      },
      "execution_count": 690,
      "outputs": []
    },
    {
      "cell_type": "code",
      "source": [
        "configurationAUTOGEN:list = [\n",
        "    {\n",
        "        \"model\":\"gpt-4-1106-preview\",\n",
        "        \"api_key\":os.environ.get(\"OPENAI_API_KEY\")\n",
        "    },\n",
        "    {\n",
        "        \"model\":\"gpt-4-vision-preview\",\n",
        "        \"api_key\":os.environ.get(\"OPENAI_API_KEY\")\n",
        "    },\n",
        "    {\n",
        "        \"model\": \"gemini-pro\",\n",
        "        \"api_key\": os.environ.get(\"GEMINI_API_KEY\"),\n",
        "        \"api_type\": \"google\"\n",
        "    },\n",
        "    {\n",
        "        \"model\": \"gemini-pro-vision\",\n",
        "        \"api_key\": os.environ.get(\"GEMINI_API_KEY\"),\n",
        "        \"api_type\": \"google\"\n",
        "    },\n",
        "    {\n",
        "        \"model\": \"gemini-1.5-pro-latest\",\n",
        "        \"api_key\": os.environ.get(\"GEMINI_API_KEY\"),\n",
        "        \"api_type\": \"google\"\n",
        "    }\n",
        "]"
      ],
      "metadata": {
        "id": "xn1ol5UDxKbI"
      },
      "execution_count": 691,
      "outputs": []
    },
    {
      "cell_type": "markdown",
      "source": [
        "# Configuration File"
      ],
      "metadata": {
        "id": "cjPAJytWAVv-"
      }
    },
    {
      "cell_type": "markdown",
      "source": [
        "## Dictionary Base"
      ],
      "metadata": {
        "id": "AWegTOHlBexC"
      }
    },
    {
      "cell_type": "code",
      "source": [
        "systemFile = dict()\n",
        "systemFile[\"functions\"] = []\n",
        "systemFile[\"config_list\"] = configurationAUTOGEN\n",
        "systemFile[\"timeout\"] = 300\n",
        "systemFile[\"temperature\"] = 0.2"
      ],
      "metadata": {
        "id": "J4KKbRiiAYPm"
      },
      "execution_count": 758,
      "outputs": []
    },
    {
      "cell_type": "markdown",
      "source": [
        "# Pre-Agents"
      ],
      "metadata": {
        "id": "HoJMN-Ls_7fn"
      }
    },
    {
      "cell_type": "code",
      "source": [
        "CreateDirectory(Constants.directory_script)"
      ],
      "metadata": {
        "id": "YfocxcVRAEW_"
      },
      "execution_count": 759,
      "outputs": []
    },
    {
      "cell_type": "markdown",
      "source": [
        "## Executor"
      ],
      "metadata": {
        "id": "ajrXU9Gy_9Ai"
      }
    },
    {
      "cell_type": "code",
      "source": [
        "executor = LocalCommandLineCodeExecutor(\n",
        "    timeout=300,\n",
        "    work_dir=Constants.directory_script\n",
        ")"
      ],
      "metadata": {
        "id": "QEKFUBxt_99Y"
      },
      "execution_count": 760,
      "outputs": []
    },
    {
      "cell_type": "markdown",
      "source": [
        "## Code Execution Agent"
      ],
      "metadata": {
        "id": "G0urTt39AxSm"
      }
    },
    {
      "cell_type": "code",
      "source": [
        "codeAgent = ConversableAgent(\n",
        "    name=\"code_executor\",\n",
        "    llm_config=systemFile,\n",
        "    code_execution_config={\"executor\":executor},\n",
        "    max_consecutive_auto_reply=50,\n",
        "    human_input_mode=\"NEVER\"\n",
        ")"
      ],
      "metadata": {
        "id": "Npy40ppQ_3nf"
      },
      "execution_count": 761,
      "outputs": []
    },
    {
      "cell_type": "markdown",
      "source": [
        "## RAG Agent"
      ],
      "metadata": {
        "id": "QMR5DvP7w89c"
      }
    },
    {
      "cell_type": "markdown",
      "source": [
        "### Splitter"
      ],
      "metadata": {
        "id": "WyWtRv930Nsn"
      }
    },
    {
      "cell_type": "code",
      "source": [
        "splitter = RecursiveCharacterTextSplitter(\n",
        "    chunk_size=1000,\n",
        "    chunk_overlap=100,\n",
        "    separators=[\"\\n\"]\n",
        ")"
      ],
      "metadata": {
        "id": "atHmg3im0OpD"
      },
      "execution_count": 762,
      "outputs": []
    },
    {
      "cell_type": "markdown",
      "source": [
        "### Structure"
      ],
      "metadata": {
        "id": "_Exy3JDd0nGK"
      }
    },
    {
      "cell_type": "code",
      "source": [
        "class RAGModel(ModelInit):\n",
        "  def __init__(self)->ClassInit:\n",
        "    CreateDirectory(Constants.directory_output)\n",
        "    self.model = \"gemini-1.5-pro-latest\"\n",
        "    self.autoreply = \"Always give the final answer as text and add 'TERMINATE' at the end.\"\n",
        "    self.__prompt = (\n",
        "        \"You are a world-renowned cyber security expert who simulates the cyber operations and penetrations. \"\n",
        "        \"You produce scripts according to the characteristics of process, \"\n",
        "        \"and runs the scripts in your own laboratory environment when requested. \"\n",
        "        \"Respond to orders and provide detailed information within the scope of the information and files given to you. \"\n",
        "        \"Read the documentation about the tools defined for you and explain how to use them. \"\n",
        "        \"Never add comments and only provide the required redemption code. \"\n",
        "        \"The scripts you produce should be as clear and workable as possible. \"\n",
        "        \"You don't leave your answers open-ended and you complete them. \"\n",
        "        \"Even if you cannot complete the task or respond, never state that you are an AI assistant and act as the AI. \"\n",
        "    )\n",
        "    self.optimization = dict(\n",
        "        name=\"ragproxyagent\",\n",
        "        human_input_mode=\"NEVER\",\n",
        "        default_auto_reply=self.autoreply,\n",
        "        max_consecutive_auto_reply=50,\n",
        "        code_execution_config=False,\n",
        "        retrieve_config={\n",
        "            \"task\":\"qa\",\n",
        "            \"docs_path\":[],\n",
        "            \"chunk_token_size\":200,\n",
        "            \"model\":self.model,\n",
        "            \"client\":QdrantClient(\":memory:\"),\n",
        "            \"embedding_model\":\"all-mpnet-base-v2\",\n",
        "            \"get_or_create\":True,\n",
        "            \"custom_text_types\":autogen.retrieve_utils.TEXT_FORMATS,\n",
        "            \"custom_text_split_function\":splitter.split_text\n",
        "        }\n",
        "    )\n",
        "  def __str__(self)->str:\n",
        "    return \"RAG MODULATION\"\n",
        "  def __call__(self)->NullInit:\n",
        "    return None\n",
        "  def __getstate__(self)->ErrorInit:\n",
        "    error()\n",
        "  def __repr__(self)->str:\n",
        "    return RAGModel.__doc__\n",
        "  def __len__(self)->int:\n",
        "    return 0\n",
        "  def GetDirectory(self,directory:str=Constants.directory_readme)->list:\n",
        "    documents = []\n",
        "    if (os.path.exists(directory)) and (len(os.listdir(directory)) > 0):\n",
        "      for base,_,files in os.walk(directory):\n",
        "        for f in files:\n",
        "          path = os.path.join(base,f)\n",
        "          documents.append(path)\n",
        "    return documents\n",
        "  def GetAssistant(self)->ModelInit:\n",
        "    assistant = RetrieveAssistantAgent(\n",
        "        name=\"assistant\",\n",
        "        system_message=self.__prompt,\n",
        "        llm_config={\n",
        "            \"timeout\":400,\n",
        "            \"cache_seed\":42,\n",
        "            \"config_list\":configurationAUTOGEN,\n",
        "            \"temperature\":0.1\n",
        "        }\n",
        "    )\n",
        "    return assistant\n",
        "  def GetProxy(self,documents:Union[list,str])->ModelInit:\n",
        "    if isinstance(documents,str): documents = [documents]\n",
        "    if len(documents) > 0:\n",
        "      for d in documents:\n",
        "        self.optimization[\"retrieve_config\"][\"docs_path\"].append(d)\n",
        "    else:\n",
        "      pass\n",
        "    proxy = QdrantRetrieveUserProxyAgent(\n",
        "        **self.optimization\n",
        "    )\n",
        "    return proxy"
      ],
      "metadata": {
        "id": "HDbjnZUbw-T1"
      },
      "execution_count": 763,
      "outputs": []
    },
    {
      "cell_type": "code",
      "source": [
        "ragBase = RAGModel()"
      ],
      "metadata": {
        "id": "NLO6B4QQ1pG5"
      },
      "execution_count": 764,
      "outputs": []
    },
    {
      "cell_type": "code",
      "source": [
        "ragAssistant = ragBase.GetAssistant()"
      ],
      "metadata": {
        "id": "3Tsv1HhL1t9F"
      },
      "execution_count": 765,
      "outputs": []
    },
    {
      "cell_type": "markdown",
      "source": [
        "## LLM"
      ],
      "metadata": {
        "id": "6BCcGZrsTgRF"
      }
    },
    {
      "cell_type": "markdown",
      "source": [
        "### Structure"
      ],
      "metadata": {
        "id": "lVM5F51uThSI"
      }
    },
    {
      "cell_type": "code",
      "source": [
        "class ReturnLLM(ModelInit):\n",
        "  def __init__(self)->Optional[ClassInit]:\n",
        "    self.model = \"mistralai/Mistral-7B-Instruct-v0.1\"\n",
        "  def __str__(self)->str:\n",
        "    return \"LLM MODULATION\"\n",
        "  def __call__(self)->NullInit:\n",
        "    return None\n",
        "  def __getstate__(self)->ErrorInit:\n",
        "    error()\n",
        "  def __len__(self)->int:\n",
        "    return 0\n",
        "  def __repr__(self)->str:\n",
        "    return ReturnLLM.__doc__\n",
        "  def GetMistral(self)->ModelInit:\n",
        "    llm = HuggingFaceHub(\n",
        "        repo_id=self.model,\n",
        "        task=\"conversational\",\n",
        "        model_kwargs={\"temperature\":0.1}\n",
        "    )\n",
        "    return llm"
      ],
      "metadata": {
        "id": "Zo3oMoWgTi8s"
      },
      "execution_count": 766,
      "outputs": []
    },
    {
      "cell_type": "code",
      "source": [
        "llmBase = ReturnLLM()\n",
        "mistralLLM = llmBase.GetMistral()"
      ],
      "metadata": {
        "id": "_QxbkP35UOkc"
      },
      "execution_count": 767,
      "outputs": []
    },
    {
      "cell_type": "markdown",
      "source": [
        "# Tool Structures"
      ],
      "metadata": {
        "id": "pIU-CcXJ3_LE"
      }
    },
    {
      "cell_type": "markdown",
      "source": [
        "## Inputs"
      ],
      "metadata": {
        "id": "Aurt6nq84A7t"
      }
    },
    {
      "cell_type": "code",
      "source": [
        "class ProcessHoldInput(BaseModel):\n",
        "  count:Optional[int] = Field(description=\"Latency for processes\")\n",
        "class String2ListToolInput(BaseModel):\n",
        "  message:Optional[str] = Field(description=\"String to convert into a list\")\n",
        "class TransferFileInput(BaseModel):\n",
        "  fileDirectory:Optional[str] = Field(description=\"File to transfer\")\n",
        "  destinationDirectory:Optional[str] = Field(description=\"Destination directory to transfer the file\")\n",
        "class BashInput(BaseModel):\n",
        "  query:Optional[str] = Field(description=\"Bash command to run\")\n",
        "class PythonInput(BaseModel):\n",
        "  query:Optional[str] = Field(description=\"Python code to run\")\n",
        "class RAGToolInput(BaseModel):\n",
        "  toolName:Optional[str] = Field(description=\"Repository or tool name to examine\")\n",
        "class PenetrationInput(BaseModel):\n",
        "  system:Optional[str] = Field(description=\"System name to target\")\n",
        "  way:Optional[str] = Field(description=\"Penetration method to be applied\")\n",
        "class PackageToolInput(BaseModel):\n",
        "  package:Optional[str] = Field(description=\"Package name to install\")\n",
        "class PickingToolInput(BaseModel):\n",
        "  method:Optional[str] = Field(description=\"Attack script name to choose to use\")\n",
        "class DirectoryCheckInput(BaseModel):\n",
        "  directory:Optional[str] = Field(description=\"Choosen directory for repository\")\n",
        "class ReadDocumentationInput(BaseModel):\n",
        "  directory:Optional[str] = Field(description=\"Choosen directory for repository\")\n",
        "  filename:Optional[str] = Field(description=\"Choosen README.md file for tool\")\n",
        "class FileCheckInput(BaseModel):\n",
        "  directory:Optional[str] = Field(description=\"Choosen directory for repository\")\n",
        "  filename:Optional[str] = Field(description=\"Name and path of file to check\")\n",
        "class ModifyCodeInput(BaseModel):\n",
        "  directory:Optional[str] = Field(description=\"Choosen directory for repository\")\n",
        "  filename:Optional[str] = Field(description=\"Name and path of file to modify\")\n",
        "  startLine:Optional[int] = Field(description=\"Start line number to replace with new code\")\n",
        "  endLine:Optional[int] = Field(description=\"End line number to replace with new code\")\n",
        "  newCode:Optional[str] = Field(description=\"New piece of code to replace old code with,remember about providing indents\")\n",
        "class CreateNewCodeFileInput(BaseModel):\n",
        "  directory:Optional[str] = Field(description=\"Choosen directory for repository\")\n",
        "  filename:Optional[str] = Field(description=\"Name and path of file to modify\")\n",
        "  code:Optional[str] = Field(description=\"Code to write in the file\")\n",
        "class CopyFileInput(BaseModel):\n",
        "  directory:Optional[str] = Field(description=\"Choosen directory for repository\")\n",
        "  filename:Optional[str] = Field(description=\"Name and path of file to copy\")\n",
        "  destination:Optional[str] = Field(description=\"Destination directory to copy the file\")\n",
        "class RunCodeInput(BaseModel):\n",
        "  code:Optional[str] = Field(description=\"Code to run\")"
      ],
      "metadata": {
        "id": "yOdl3S4txi06"
      },
      "execution_count": 768,
      "outputs": []
    },
    {
      "cell_type": "markdown",
      "source": [
        "## Modules"
      ],
      "metadata": {
        "id": "FyNzcxKs5ynN"
      }
    },
    {
      "cell_type": "code",
      "source": [
        "CreateDirectory(Constants.directory_repo_log)"
      ],
      "metadata": {
        "id": "DOG3PpoV7Att"
      },
      "execution_count": 769,
      "outputs": []
    },
    {
      "cell_type": "code",
      "source": [
        "class ProcessHoldTool(BaseTool):\n",
        "  name = \"Process_Delay_Tool\"\n",
        "  description = \"Use this tool to pause the process or create a delay\"\n",
        "  args_schema = ProcessHoldInput\n",
        "  def _run(self,count:Optional[int])->Union[bool,ProcessInit]:\n",
        "    time.sleep(int(count))\n",
        "    return True"
      ],
      "metadata": {
        "id": "aGVK9fDMn6hE"
      },
      "execution_count": 770,
      "outputs": []
    },
    {
      "cell_type": "code",
      "source": [
        "processDelayTool = ProcessHoldTool()"
      ],
      "metadata": {
        "id": "mIjXM43Vo11-"
      },
      "execution_count": 771,
      "outputs": []
    },
    {
      "cell_type": "code",
      "source": [
        "class StringToListTool(BaseTool):\n",
        "  name = \"String_To_List_Tool\"\n",
        "  description = \"Use this tool to convert the array given as a string into a list type\"\n",
        "  args_schema = String2ListToolInput\n",
        "  def _run(self,message:Optional[str])->Union[list,ProcessInit]:\n",
        "    isList = Str2List(message)\n",
        "    return isList"
      ],
      "metadata": {
        "id": "6GlLmJTel5dm"
      },
      "execution_count": 772,
      "outputs": []
    },
    {
      "cell_type": "code",
      "source": [
        "str2ListTool = StringToListTool()"
      ],
      "metadata": {
        "id": "pQKMlfcOmPle"
      },
      "execution_count": 773,
      "outputs": []
    },
    {
      "cell_type": "code",
      "source": [
        "class TransferFileTool(BaseTool):\n",
        "  name = \"Transfer_Files_Tool\"\n",
        "  description = \"Use this tool to send a file to a different file directory\"\n",
        "  args_schema = TransferFileInput\n",
        "  def _run(self,fileDirectory:Optional[str],destinationDirectory:Optional[str])->Union[bool,ProcessInit]:\n",
        "    isTransfered = TransferFilesToDirectory(fileDirectory,destinationDirectory)\n",
        "    return isTransfered"
      ],
      "metadata": {
        "id": "kqt0HDEqlLGy"
      },
      "execution_count": 774,
      "outputs": []
    },
    {
      "cell_type": "code",
      "source": [
        "transferFileTool = TransferFileTool()"
      ],
      "metadata": {
        "id": "gFcoo47olsDt"
      },
      "execution_count": 775,
      "outputs": []
    },
    {
      "cell_type": "code",
      "source": [
        "class DefineOSTool(BaseTool):\n",
        "  name = \"Gathering_Operation_System_Tool\"\n",
        "  description = \"Use this tool to identify what system it is on\"\n",
        "  def _run(self)->Union[str,ProcessInit]:\n",
        "    system = platform.platform(aliased=True)\n",
        "    return system"
      ],
      "metadata": {
        "id": "fbFD4OunPP30"
      },
      "execution_count": 776,
      "outputs": []
    },
    {
      "cell_type": "code",
      "source": [
        "osDefineTool = DefineOSTool()"
      ],
      "metadata": {
        "id": "wlTBsPBkPn33"
      },
      "execution_count": 777,
      "outputs": []
    },
    {
      "cell_type": "code",
      "source": [
        "class ShellInitialTool(BaseTool):\n",
        "  name = \"Bash_Code_Engine_Tool\"\n",
        "  description = (\n",
        "      \"Use this tool when you need to create or run sample code for sh, always run the code and analyze codes for objectives and topics. \"\n",
        "      \"Run it and get sample output. \"\n",
        "      \"If you get an error as output, just give the code example.\"\n",
        "  )\n",
        "  args_schema = BashInput\n",
        "  def _run(self,query:Optional[str])->Union[str,ProcessInit]:\n",
        "    shellEngine.description = shellEngine.description+\" \"+self.description+f\" args {self.args_schema}\".replace(\"{\",\"{{\").replace(\"}\",\"}}\")\n",
        "    try:\n",
        "      engine = initialize_agent(\n",
        "          [shellEngine],\n",
        "          mistralLLM,\n",
        "          agent=AgentType.CHAT_ZERO_SHOT_REACT_DESCRIPTION,\n",
        "          verbose=True\n",
        "      )\n",
        "      result = engine.run(str(query))\n",
        "      return result\n",
        "    except:\n",
        "      result = shellEngine.run({\"commands\": [str(query)]})\n",
        "      return result"
      ],
      "metadata": {
        "id": "XupwHGkQUnBM"
      },
      "execution_count": 778,
      "outputs": []
    },
    {
      "cell_type": "code",
      "source": [
        "shellInitialTool = ShellInitialTool()"
      ],
      "metadata": {
        "id": "IkYn4XoWV9Qg"
      },
      "execution_count": 779,
      "outputs": []
    },
    {
      "cell_type": "code",
      "source": [
        "class PythonInitialTool(BaseTool):\n",
        "  name =  \"Python_Code_Engine_Tool\"\n",
        "  description = (\n",
        "      \"Use this tool when you need to create or run sample code for python, always run the code and analyze codes for objectives and topics. \"\n",
        "      \"Run it and get sample output. \"\n",
        "      \"If you get an error as output, just give the code example.\"\n",
        "  )\n",
        "  args_schema = PythonInput\n",
        "  def _run(self,query:Optional[str])->Union[str,ProcessInit]:\n",
        "    engine = PythonREPLTool(\n",
        "        description=self.description,\n",
        "        name=\"pythoncodeengine\",\n",
        "        verbose=True\n",
        "    )\n",
        "    executor = create_python_agent(\n",
        "        llm=mistralLLM,\n",
        "        tool=engine,\n",
        "        agent_type=AgentType.ZERO_SHOT_REACT_DESCRIPTION,\n",
        "        agent_executor_kwargs={\"handle_parsing_error\":True}\n",
        "    )\n",
        "    result = executor.run(str(query))\n",
        "    return result"
      ],
      "metadata": {
        "id": "8IZN931waiUs"
      },
      "execution_count": 780,
      "outputs": []
    },
    {
      "cell_type": "code",
      "source": [
        "pythonInitialTool = PythonInitialTool()"
      ],
      "metadata": {
        "id": "xjIvylhIba1A"
      },
      "execution_count": 781,
      "outputs": []
    },
    {
      "cell_type": "code",
      "source": [
        "class RAGTool(BaseTool):\n",
        "  name = \"Retrieve_Repo_Usage_Tool\"\n",
        "  description = \"Use this tool to find the purpose and method of using the repository and scripts\"\n",
        "  args_schema = RAGToolInput\n",
        "  def _run(self,toolName:Optional[str])->Union[str,ProcessInit]:\n",
        "    documents = ragBase.GetDirectory()\n",
        "    proxy = ragBase.GetProxy(documents)\n",
        "    message = f\"Tell me how to use this repository '{toolName}', with which parameters I should run it.\"\n",
        "    result = proxy.initiate_chat(\n",
        "        ragAssistant,\n",
        "        message=proxy.message_generator,\n",
        "        problem=message\n",
        "    )\n",
        "    return result"
      ],
      "metadata": {
        "id": "mnM4j6UX18M4"
      },
      "execution_count": 782,
      "outputs": []
    },
    {
      "cell_type": "code",
      "source": [
        "ragTool = RAGTool()"
      ],
      "metadata": {
        "id": "ik72eM4R3Jvw"
      },
      "execution_count": 783,
      "outputs": []
    },
    {
      "cell_type": "code",
      "source": [
        "class RunPenetrationTool(BaseTool):\n",
        "  name = \"Penetration_Command_Tool\"\n",
        "  description = \"Use this tool to run the required penetration commands for the specified system\"\n",
        "  args_schema = PenetrationInput\n",
        "  def _run(self,system:Optional[str],way:Optional[str])->Union[str,ProcessInit]:\n",
        "    base = codebaseYAML[\"penetrations\"][system][way][\"include\"]\n",
        "    return base"
      ],
      "metadata": {
        "id": "aeSXoQhyP3uj"
      },
      "execution_count": 784,
      "outputs": []
    },
    {
      "cell_type": "code",
      "source": [
        "penetrationTool = RunPenetrationTool()"
      ],
      "metadata": {
        "id": "KEw7Ra3sSO3g"
      },
      "execution_count": 785,
      "outputs": []
    },
    {
      "cell_type": "code",
      "source": [
        "class PickingPackageTool(BaseTool):\n",
        "  name = \"Picking_Package_Tool\"\n",
        "  description = \"Use this tool to select the required package, download and install it on the system\"\n",
        "  args_schema = PackageToolInput\n",
        "  def _run(self,package:Optional[str])->Union[None,ProcessInit]:\n",
        "    package = package.lower().capitalize()\n",
        "    dictBase = dict()\n",
        "    base = codebaseYAML[\"apts\"][str(package)]\n",
        "    install = base[\"install\"]\n",
        "    howto = base[\"howto\"]\n",
        "    path = os.path.join(Constants.directory_repo_log,f\"pack_log_{package}.txt\")\n",
        "    for key in howto.keys():\n",
        "      dictBase[key] = howto[key]\n",
        "    !$install >> $path\n",
        "    print(f\"[SYSTEM MESSAGE] : PACKAGE HAS BEEN SAVED FOR {package}\")\n",
        "    return dictBase\n"
      ],
      "metadata": {
        "id": "GSnoXT2O0It_"
      },
      "execution_count": 786,
      "outputs": []
    },
    {
      "cell_type": "code",
      "source": [
        "packageTool = PickingPackageTool()"
      ],
      "metadata": {
        "id": "E7tefVaJ1Ymv"
      },
      "execution_count": 787,
      "outputs": []
    },
    {
      "cell_type": "code",
      "source": [
        "class PickingTool(BaseTool):\n",
        "  name = \"Picking_Repository_Tool\"\n",
        "  description = \"Use this tool to select the required repository, download and install it on the system\"\n",
        "  args_schema = PickingToolInput\n",
        "  def _run(self,method:Optional[str])->Union[None,ProcessInit]:\n",
        "    base = codebaseYAML[\"tools\"][str(method)][\"include\"]\n",
        "    linkSplit = base[\"base\"].split(\"/\")[-1]\n",
        "    logPath = os.path.join(Constants.directory_repo_log,f\"repo_log_{SplitPathName(base['base'])}.txt\")\n",
        "    link = base[\"base\"]+\".git\"\n",
        "    readme = base[\"readme\"]\n",
        "    readmeName = SplitPathName(base['base'])+\"_README.md\"\n",
        "    readmePath = os.path.join(Constants.directory_readme,readmeName)\n",
        "    howto = base[\"howto\"]\n",
        "    example = base[\"example\"]\n",
        "    if not os.path.exists(linkSplit):\n",
        "      !git clone $link >> $logPath\n",
        "      print(f\"[SYSTEM MESSAGE] : REPOSITORY HAS BEEN SAVED FOR {SplitPathName(base['base'])}\")\n",
        "      !wget $readme -O $readmePath -q\n",
        "      print(f\"[SYSTEM MESSAGE] : README HAS BEEN SAVED FOR {SplitPathName(base['base'])} --> {readmePath}: [SUCCESS]\")\n",
        "    result = {\"How_To_Use\":howto,\"Example_Usage\":example}\n",
        "    return result"
      ],
      "metadata": {
        "id": "ghqM8mGm5x8D"
      },
      "execution_count": 788,
      "outputs": []
    },
    {
      "cell_type": "code",
      "source": [
        "pickingTool = PickingTool()"
      ],
      "metadata": {
        "id": "V9a10L78Cgk6"
      },
      "execution_count": 789,
      "outputs": []
    },
    {
      "cell_type": "code",
      "source": [
        "class DirectoryCheckTool(BaseTool):\n",
        "  name = \"Directory_Listing_Tool\"\n",
        "  description = \"Use this tool to check the directory contents for the repository you want to use\"\n",
        "  args_schema = DirectoryCheckInput\n",
        "  def _run(self,directory:Optional[str])->Union[list,ProcessInit]:\n",
        "    files = []\n",
        "    for base,_,init in os.walk(directory):\n",
        "      for f in init:\n",
        "        files.append(os.path.join(base,f))\n",
        "    return files"
      ],
      "metadata": {
        "id": "TgALCQk87sGX"
      },
      "execution_count": 790,
      "outputs": []
    },
    {
      "cell_type": "code",
      "source": [
        "directoryCheckTool = DirectoryCheckTool()"
      ],
      "metadata": {
        "id": "RF-XF4TpCjhH"
      },
      "execution_count": 791,
      "outputs": []
    },
    {
      "cell_type": "code",
      "source": [
        "class BaseDirectoryCheckTool(BaseTool):\n",
        "  name = \"Main_Directory_Listing_Tool\"\n",
        "  description = \"Use this tool to check the main path and find the repository path\"\n",
        "  def _run(self)->Union[list,ProcessInit]:\n",
        "    files = []\n",
        "    for base,_,init in os.walk(os.getcwd()):\n",
        "      for f in init:\n",
        "        files.append(os.path.join(base,f))\n",
        "    return files"
      ],
      "metadata": {
        "id": "-p6_8kSP8lDa"
      },
      "execution_count": 792,
      "outputs": []
    },
    {
      "cell_type": "code",
      "source": [
        "baseDirectoryCheckTool = BaseDirectoryCheckTool()"
      ],
      "metadata": {
        "id": "S82wHV8LCoDB"
      },
      "execution_count": 793,
      "outputs": []
    },
    {
      "cell_type": "code",
      "source": [
        "class ReadDocumentationTool(BaseTool):\n",
        "  name = \"Read_Documentation_Tool\"\n",
        "  description = \"Use this tool to read the README.md file for the tool you want to use\"\n",
        "  args_schema = ReadDocumentationInput\n",
        "  def _run(self,directory:Optional[str],filename:Optional[str]=\"README.md\")->Union[str,ProcessInit]:\n",
        "    path = os.path.join(os.getcwd(),directory,filename)\n",
        "    with open(path,\"r\",errors=\"ignore\",encoding=\"utf-8\") as ops:\n",
        "      data = ops.read()\n",
        "    return data"
      ],
      "metadata": {
        "id": "Hw2NJtDe9ClK"
      },
      "execution_count": 794,
      "outputs": []
    },
    {
      "cell_type": "code",
      "source": [
        "readDocumentationTool = ReadDocumentationTool()"
      ],
      "metadata": {
        "id": "_hzgr3x2CrJ2"
      },
      "execution_count": 795,
      "outputs": []
    },
    {
      "cell_type": "code",
      "source": [
        "class FileCheckTool(BaseTool):\n",
        "  name = \"File_Content_Check_Tool\"\n",
        "  description = \"Use this tool to check the content of the file\"\n",
        "  args_schema = FileCheckInput\n",
        "  def _run(self,directory:Optional[str],filename:Optional[str])->Union[str,ProcessInit]:\n",
        "    path = os.path.join(os.getcwd(),directory,filename)\n",
        "    with open(path,\"r\",errors=\"ignore\") as ops:\n",
        "      lines = ops.readlines()\n",
        "    formatted = [f\"{idx+1}:{line}\" for idx,line in enumerate(lines)]\n",
        "    content = \"\".join(formatted)\n",
        "    return content"
      ],
      "metadata": {
        "id": "yhLQe7fFJkg4"
      },
      "execution_count": 796,
      "outputs": []
    },
    {
      "cell_type": "code",
      "source": [
        "fileCheckTool = FileCheckTool()"
      ],
      "metadata": {
        "id": "-VyTi5DTKTz8"
      },
      "execution_count": 797,
      "outputs": []
    },
    {
      "cell_type": "code",
      "source": [
        "class ModifyCodeTool(BaseTool):\n",
        "  name = \"Modify_Code_Tool\"\n",
        "  description = \"Use this tool to modify the code\"\n",
        "  args_schema = ModifyCodeInput\n",
        "  def _run(self,directory:Optional[str],filename:Optional[str],startLine:Optional[int],endLine:Optional[int],newCode:Optional[str])->Union[bool,ProcessInit]:\n",
        "    path = os.path.join(os.getcwd(),directory,filename)\n",
        "    with open(path,\"r+\",errors=\"ignore\") as ops:\n",
        "      content = ops.readlines()\n",
        "      content[startLine-1:endLine] = [newCode+\"\\n\"]\n",
        "      ops.seek(0)\n",
        "      ops.truncate()\n",
        "      ops.write(\"\".join(content))\n",
        "    return path,True"
      ],
      "metadata": {
        "id": "Y2o1gsjLKvGV"
      },
      "execution_count": 798,
      "outputs": []
    },
    {
      "cell_type": "code",
      "source": [
        "modifyCodeTool = ModifyCodeTool()"
      ],
      "metadata": {
        "id": "jY2ocOtNLjMx"
      },
      "execution_count": 799,
      "outputs": []
    },
    {
      "cell_type": "code",
      "source": [
        "class CreateNewCodeFileTool(BaseTool):\n",
        "  name = \"Create_New_Code_File_Tool\"\n",
        "  description = \"Use this tool to create a new file with code\"\n",
        "  args_schema = CreateNewCodeFileInput\n",
        "  def _run(self,directory:Optional[str],filename:Optional[str],code:Optional[str])->Union[bool,ProcessInit]:\n",
        "    path = os.path.join(os.getcwd(),directory,filename)\n",
        "    with open(path,\"w\") as ops:\n",
        "      ops.write(code)\n",
        "    return path,True"
      ],
      "metadata": {
        "id": "ZuSgcIDZL1n0"
      },
      "execution_count": 800,
      "outputs": []
    },
    {
      "cell_type": "code",
      "source": [
        "createNewCodeFileTool = CreateNewCodeFileTool()"
      ],
      "metadata": {
        "id": "grxq1or0MXf4"
      },
      "execution_count": 801,
      "outputs": []
    },
    {
      "cell_type": "code",
      "source": [
        "class CopyFileTool(BaseTool):\n",
        "  name = \"Copy_File_Tool\"\n",
        "  description = \"Use this tool to copy the file\"\n",
        "  args_schema = CopyFileInput\n",
        "  def _run(self,directory:Optional[str],filename:Optional[str],destination:Optional[str]=os.getcwd())->Union[bool,ProcessInit]:\n",
        "    path = os.path.join(os.getcwd(),directory,filename)\n",
        "    !cp $path $destination\n",
        "    return True"
      ],
      "metadata": {
        "id": "KVFCQrYrOl4A"
      },
      "execution_count": 802,
      "outputs": []
    },
    {
      "cell_type": "code",
      "source": [
        "copyFileTool = CopyFileTool()"
      ],
      "metadata": {
        "id": "Q41tdb3KPHsg"
      },
      "execution_count": 803,
      "outputs": []
    },
    {
      "cell_type": "code",
      "source": [
        "class RunCodeTool(BaseTool):\n",
        "  name = \"Run_Code_Tool\"\n",
        "  description = \"Use this tool to run the code\"\n",
        "  args_schema = RunCodeInput\n",
        "  def _run(self,code:Optional[str])->Union[None,ProcessInit]:\n",
        "    template = f\"\"\"This is a message with code block.\n",
        "The code block is below:\n",
        "```bash\n",
        "{code}\n",
        "```\n",
        "This is the end of the message.\n",
        "\"\"\"\n",
        "    reply = codeAgent.generate_reply(\n",
        "        messages=[\n",
        "            {\"role\":\"user\",\"content\":template}\n",
        "        ]\n",
        "    )\n",
        "    return reply"
      ],
      "metadata": {
        "id": "gg2QJipN_0Jv"
      },
      "execution_count": 804,
      "outputs": []
    },
    {
      "cell_type": "code",
      "source": [
        "runCodeTool = RunCodeTool()"
      ],
      "metadata": {
        "id": "0eFdFo90Ctyi"
      },
      "execution_count": 805,
      "outputs": []
    },
    {
      "cell_type": "markdown",
      "source": [
        "## List"
      ],
      "metadata": {
        "id": "-vdtiBXpC6am"
      }
    },
    {
      "cell_type": "code",
      "source": [
        "toolList = [processDelayTool,str2ListTool,transferFileTool,osDefineTool,shellInitialTool,pythonInitialTool,ragTool,penetrationTool,packageTool,pickingTool,directoryCheckTool,baseDirectoryCheckTool,readDocumentationTool,fileCheckTool,modifyCodeTool,createNewCodeFileTool,copyFileTool,runCodeTool]"
      ],
      "metadata": {
        "id": "bXyRp4dGCyFW"
      },
      "execution_count": 806,
      "outputs": []
    },
    {
      "cell_type": "markdown",
      "source": [
        "# Configuration Process"
      ],
      "metadata": {
        "id": "cRB6oa5jBoVU"
      }
    },
    {
      "cell_type": "markdown",
      "source": [
        "## Functions"
      ],
      "metadata": {
        "id": "17hKYBsGBqe_"
      }
    },
    {
      "cell_type": "code",
      "source": [
        "def ToolDefine(baseTool:Union[ClassInit,BaseTool])->dict:\n",
        "  schema:dict = {\n",
        "      \"name\":KeyControl(baseTool),\n",
        "      \"description\":baseTool.description,\n",
        "      \"parameters\":{\n",
        "          \"type\":\"object\",\n",
        "          \"properties\":{},\n",
        "          \"required\":[]\n",
        "      }\n",
        "  }\n",
        "  if baseTool.args is not None:\n",
        "    schema[\"parameters\"][\"properties\"] = baseTool.args\n",
        "  else:\n",
        "    pass\n",
        "  return schema"
      ],
      "metadata": {
        "id": "dyrAlyKTBZ-8"
      },
      "execution_count": 807,
      "outputs": []
    },
    {
      "cell_type": "code",
      "source": [
        "def ConfigurationDefine(systemFileConf:dict,baseTool:Union[ClassInit,BaseTool])->dict:\n",
        "  systemFileConf[\"functions\"].append(ToolDefine(baseTool))"
      ],
      "metadata": {
        "id": "KximWh4JCK8w"
      },
      "execution_count": 808,
      "outputs": []
    },
    {
      "cell_type": "markdown",
      "source": [
        "## Process"
      ],
      "metadata": {
        "id": "iZ8_I02CCasX"
      }
    },
    {
      "cell_type": "code",
      "source": [
        "for tool in toolList: ConfigurationDefine(systemFile,tool)"
      ],
      "metadata": {
        "id": "FJM3qC8bCZwj"
      },
      "execution_count": 809,
      "outputs": []
    },
    {
      "cell_type": "code",
      "source": [
        "#systemFile"
      ],
      "metadata": {
        "id": "4uJfzpGtC_KQ"
      },
      "execution_count": 810,
      "outputs": []
    },
    {
      "cell_type": "markdown",
      "source": [
        "# Proxy & Agent"
      ],
      "metadata": {
        "id": "qyz1pZERDGyX"
      }
    },
    {
      "cell_type": "markdown",
      "source": [
        "## Proxy"
      ],
      "metadata": {
        "id": "c8NE2JTTDI6p"
      }
    },
    {
      "cell_type": "code",
      "source": [
        "proxy = autogen.UserProxyAgent(\n",
        "    name=\"user_proxy\",\n",
        "    human_input_mode=\"NEVER\",\n",
        "    max_consecutive_auto_reply=100,\n",
        "    is_termination_msg=IsTerminated,\n",
        "    code_execution_config={\"executor\":executor}\n",
        ")"
      ],
      "metadata": {
        "id": "9TTLvk7iC_67"
      },
      "execution_count": 811,
      "outputs": []
    },
    {
      "cell_type": "code",
      "source": [
        "for tool in toolList:\n",
        "  proxy.register_function(\n",
        "      function_map={\n",
        "          tool.name:tool._run\n",
        "      }\n",
        "  )"
      ],
      "metadata": {
        "id": "_yH2I3h2D6RJ"
      },
      "execution_count": 812,
      "outputs": []
    },
    {
      "cell_type": "markdown",
      "source": [
        "## Agent"
      ],
      "metadata": {
        "id": "6mRPuSDUESgb"
      }
    },
    {
      "cell_type": "code",
      "source": [
        "codebaseYAML[\"penetrations\"].keys()"
      ],
      "metadata": {
        "colab": {
          "base_uri": "https://localhost:8080/"
        },
        "id": "DLpmFx56btpg",
        "outputId": "36567eb5-d0b9-4b42-da9b-a4d49163f1dd"
      },
      "execution_count": 813,
      "outputs": [
        {
          "output_type": "execute_result",
          "data": {
            "text/plain": [
              "dict_keys(['linux', 'windows'])"
            ]
          },
          "metadata": {},
          "execution_count": 813
        }
      ]
    },
    {
      "cell_type": "code",
      "source": [
        "codebaseYAML[\"penetrations\"][\"linux\"].keys()"
      ],
      "metadata": {
        "colab": {
          "base_uri": "https://localhost:8080/"
        },
        "id": "MavdMJMld4oQ",
        "outputId": "75f8057b-98f8-40d4-d2c0-cf50d80d042a"
      },
      "execution_count": 814,
      "outputs": [
        {
          "output_type": "execute_result",
          "data": {
            "text/plain": [
              "dict_keys(['enumeration'])"
            ]
          },
          "metadata": {},
          "execution_count": 814
        }
      ]
    },
    {
      "cell_type": "code",
      "source": [
        "codeNames = \"'\"+\", \".join(list(codebaseYAML[\"tools\"].keys()))+\"'\"\n",
        "systemNames = \"'\"+\", \".join(list(codebaseYAML[\"penetrations\"].keys()))+\"'\"\n",
        "methodsNamesLinux = \"'\"+\", \".join(list(codebaseYAML[\"penetrations\"][\"linux\"].keys()))+\"'\"\n",
        "methodsNamesWindows = \"'\"+\", \".join(list(codebaseYAML[\"penetrations\"][\"windows\"].keys()))+\"'\""
      ],
      "metadata": {
        "id": "dTuPwnVzFCn7"
      },
      "execution_count": 815,
      "outputs": []
    },
    {
      "cell_type": "code",
      "source": [
        "agentSystem = (\n",
        "        \"You are a world-renowned cyber security expert who simulates the cyber operations. \"\n",
        "        \"Produces scripts and guides according to the system, \"\n",
        "        \"and runs the scripts in your own laboratory environment when requested. \"\n",
        "        \"The scripts you produce should be as clear and workable as possible. \"\n",
        "        \"A tool has been defined for you to download these scripts when necessary. \"\n",
        "        \"The readme file of your user script will also be given to you.\\n\"\n",
        "        \"Important information for processes:\\n\"\n",
        "        f\"- Repos given to you to download: {codeNames}\\n\"\n",
        "        f\"- System names where you will run the processes: {systemNames}\\n\"\n",
        "        f\"- Attack methods you will use for Linux machines: {methodsNamesLinux}\\n\"\n",
        "        f\"- Attack methods you will use for Windows machines: {methodsNamesWindows}\\n\"\n",
        "        \"Your instructions for using the tools:\\n\"\n",
        "        \"1- First try to run commands the necessary commands without using tools.\\n\"\n",
        "        \"2- If you receive a penetration request on the local system, first use the defined commands and download an external repository if necessary.\\n\"\n",
        "        \"3- Download the required tool from its source by using 'PickTool' tool defined you. You can download the necessary files without disturbing the structures of these names.\\n\"\n",
        "        \"4- Whenever you download a repository or tool, always use the 'Retrieve_Repo_Usage_Tool' tool to learn how to use it.\\n\"\n",
        "        \"5- Review this instruction document first. Your first priority is to give basic commands that can run the tool directly like 'python3 <tool_path> <parameters>'.\\n\"\n",
        "        \"6- When necessary, use 'String_To_List_Tool' to convert arrays given in the form of strings into Python lists.\\n\"\n",
        "        \"7- Depending on process, if you want to transfer a file to a different file location, use the 'Transfer_Files_Tool' tool.\\n\"\n",
        "        \"8- Use the 'Penetration_Command_Tool' tool to learn the penetration commands you can use for your target system you are on. This will return you a list. Select what you need in rotation.\\n\"\n",
        "        \"9- Always use the 'Gathering_Operation_System_Tool' tool to identify or know the system you are on.\\n\"\n",
        "        \"10- First, try running the bash code on your own system, when necessary, use 'Bash_Code_Engine_Tool' to run bash commands for penetration process only when needed.\\n\"\n",
        "        \"11- First, try running the python code on your own system, when necessary, use 'Python_Code_Engine_Tool' to run python scripts for penetration process only when needed.\\n\"\n",
        "        \"12- Use the 'Process_Delay_Tool' tool to delay or create a pause in the process.\\n\"\n",
        "        \"Only if necessary, edit the code. \"\n",
        "        \"Always use the script defined for you by choosing the correct parameters. \"\n",
        "        \"Apply the obfuscation method to the code you run if you need. \"\n",
        "        \"You don't leave your answers open-ended and you complete them. \"\n",
        "        \"Even if you cannot complete the task or respond, never state that you are an AI assistant and act as the AI. \"\n",
        "        \"If you have created the answer completely, reply TERMINATE. \"\n",
        "        \"Otherwise, reply CONTINUE, or the reason why the task is not solved yet.\"\n",
        "    )"
      ],
      "metadata": {
        "id": "ZXN83735EOWd"
      },
      "execution_count": 816,
      "outputs": []
    },
    {
      "cell_type": "code",
      "source": [
        "agent = autogen.AssistantAgent(\n",
        "    name=\"assistant\",\n",
        "    system_message=agentSystem,\n",
        "    llm_config=systemFile\n",
        ")"
      ],
      "metadata": {
        "id": "6h4stiRIEg0R"
      },
      "execution_count": 817,
      "outputs": []
    },
    {
      "cell_type": "markdown",
      "source": [
        "# Callback"
      ],
      "metadata": {
        "id": "JDSjSODXE5Ym"
      }
    },
    {
      "cell_type": "markdown",
      "source": [
        "## Chat Callback"
      ],
      "metadata": {
        "id": "yQrtSsSnE63a"
      }
    },
    {
      "cell_type": "markdown",
      "source": [
        "# Launch"
      ],
      "metadata": {
        "id": "ghh3ALNQE3wn"
      }
    },
    {
      "cell_type": "markdown",
      "source": [
        "## User Command"
      ],
      "metadata": {
        "id": "_LUm6WtuwXrF"
      }
    },
    {
      "cell_type": "markdown",
      "source": [
        "> `EXAMPLE COMMANDS:`\n",
        "\n",
        "\n",
        "```\n",
        "1)\n",
        "    \"This site 'https://www.hackthissite.org' is my test site. \"\n",
        "    \"I want to know how is strong connection stress. \"\n",
        "    \"I want to test my site for DDoS attacks. \"\n",
        "    \"Give me the required tool and its parameter. \"\n",
        "    \"Just give the command to use the tool and never add comments. \"\n",
        "    \"Then run it with currect tool path. \"\n",
        "\n",
        "```\n",
        "\n",
        "\n",
        "```\n",
        "2)\n",
        "    \"Apply 4 critic enumeration methods on the system you are on. \"\n",
        "    \"Compile the results you get from each command at the end and create a report. \"\n",
        "    \"Wait 1 second while running each command to avoid timeout or question limit. \"\n",
        "    \"Tell me what vulnerabilities the system has. \"\n",
        "    \"Create a real attack script for that vulnerabilities.\"\n",
        "\n",
        "```\n",
        "```\n",
        "3)\n",
        "    \"Create Netcat listener and start listening on port 21100\"\n",
        "\n",
        "```"
      ],
      "metadata": {
        "id": "fk9J7KY253mf"
      }
    },
    {
      "cell_type": "code",
      "source": [
        "systemMessage = (\n",
        "    \"This site 'https://www.hackthissite.org' is my test site. \"\n",
        "    \"I want to know how is strong connection stress. \"\n",
        "    \"I want to test my site for DDoS attacks. \"\n",
        "    \"Give me the required tool and its parameter. \"\n",
        "    \"Just give the command to use the tool and never add comments. \"\n",
        "    \"Then run it with currect tool path. \"\n",
        ")"
      ],
      "metadata": {
        "id": "os7UV07Q1n5K"
      },
      "execution_count": 824,
      "outputs": []
    },
    {
      "cell_type": "markdown",
      "source": [
        "## Interface"
      ],
      "metadata": {
        "id": "rDg7mO1VwZAU"
      }
    },
    {
      "cell_type": "code",
      "source": [
        "result = proxy.initiate_chat(\n",
        "    agent,\n",
        "    message=systemMessage,\n",
        "    handle_tool_error=True,\n",
        "    clear_history=False,\n",
        "    summary_method=\"reflection_with_llm\",\n",
        "    llm_config=systemFile\n",
        ")"
      ],
      "metadata": {
        "id": "nKa7rtyQEwtb"
      },
      "execution_count": null,
      "outputs": []
    },
    {
      "cell_type": "code",
      "source": [
        "agent.reset()\n",
        "proxy.reset()"
      ],
      "metadata": {
        "id": "QTA23jbGGTQk"
      },
      "execution_count": 826,
      "outputs": []
    },
    {
      "cell_type": "code",
      "source": [],
      "metadata": {
        "id": "Z0ZctD6STeg8"
      },
      "execution_count": null,
      "outputs": []
    },
    {
      "cell_type": "code",
      "source": [],
      "metadata": {
        "id": "OAecuEOdbrWy"
      },
      "execution_count": null,
      "outputs": []
    },
    {
      "cell_type": "code",
      "source": [],
      "metadata": {
        "id": "3-X50iKAbrVB"
      },
      "execution_count": null,
      "outputs": []
    },
    {
      "cell_type": "code",
      "source": [],
      "metadata": {
        "id": "IlTeVaoepU0k"
      },
      "execution_count": null,
      "outputs": []
    }
  ]
}